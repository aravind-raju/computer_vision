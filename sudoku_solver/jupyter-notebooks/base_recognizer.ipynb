{
 "cells": [
  {
   "cell_type": "code",
   "execution_count": 1,
   "id": "cf70e53c",
   "metadata": {},
   "outputs": [],
   "source": [
    "import os\n",
    "\n",
    "import torch\n",
    "import torch.nn as nn\n",
    "from torch.nn import functional as F\n",
    "from torch.utils.data import DataLoader\n",
    "from torchvision.datasets import MNIST\n",
    "from torchvision import transforms\n",
    "\n",
    "import pytorch_lightning as pl\n",
    "from pytorch_lightning import loggers\n",
    "\n",
    "from PIL import Image\n",
    "import numpy as np\n",
    "import cv2"
   ]
  },
  {
   "cell_type": "code",
   "execution_count": 2,
   "id": "c09eea1e",
   "metadata": {},
   "outputs": [],
   "source": [
    "batch_sz = 100\n",
    "n_iters = 2500\n",
    "features_train = 60000\n",
    "#num_epochs = int(n_iters / (features_train / batch_sz))\n",
    "num_epochs = 5\n",
    "loss_fn = nn.CrossEntropyLoss()"
   ]
  },
  {
   "cell_type": "code",
   "execution_count": 3,
   "id": "7d4df802",
   "metadata": {},
   "outputs": [],
   "source": [
    "transform = transforms.Compose([transforms.Resize((28, 28)), transforms.ToTensor(),\n",
    "                                transforms.Normalize((0.5, ), (0.5, ))])"
   ]
  },
  {
   "cell_type": "code",
   "execution_count": 4,
   "id": "221fb5db",
   "metadata": {},
   "outputs": [],
   "source": [
    "class CNNModel(pl.LightningModule):\n",
    "\n",
    "    def __init__(self, classes=10):\n",
    "        super().__init__()\n",
    "        self.save_hyperparameters()\n",
    "        self.cnn1 = nn.Conv2d(in_channels=1, out_channels=16, kernel_size=5, stride=1, padding=0)\n",
    "        self.maxpool1 = nn.MaxPool2d(kernel_size=2)\n",
    "        self.cnn2 = nn.Conv2d(in_channels=16, out_channels=32, kernel_size=5, stride=1, padding=0)\n",
    "        self.maxpool2 = nn.MaxPool2d(kernel_size=2)\n",
    "        self.fc1 = nn.Linear(32 * 4 * 4, 10)\n",
    "        self.softmax = nn.Softmax(dim=1)\n",
    "\n",
    "    def forward(self, x):\n",
    "        batch_size, channels, width, height = x.size()\n",
    "        x = self.cnn1(x)\n",
    "        x = F.relu(x)\n",
    "        x = self.maxpool1(x)\n",
    "        x = self.cnn2(x)\n",
    "        x = F.relu(x)\n",
    "        x = self.maxpool2(x)\n",
    "        x = x.view(batch_size, -1)\n",
    "        x = self.fc1(x)\n",
    "        out = self.softmax(x)\n",
    "        return out\n",
    "\n",
    "    def training_step(self, batch, batch_idx):\n",
    "        x, y = batch\n",
    "        y_hat = self(x)\n",
    "        loss = loss_fn(y_hat, y)\n",
    "        correct = (y == y_hat.argmax(axis=1)).sum()\n",
    "        logs = {'train_loss': loss}\n",
    "        return {'loss': loss, 'log': logs, 'correct': correct, 'total': len(y)}\n",
    "\n",
    "    def validation_step(self, batch, batch_idx):\n",
    "        x, y = batch\n",
    "        y_hat = self.forward(x)\n",
    "        loss = loss_fn(y_hat, y)\n",
    "        correct = (y == y_hat.argmax(axis=1)).sum()\n",
    "        logs = {'val_loss': loss}\n",
    "        return {'loss': loss, 'log': logs, 'correct': correct, 'total': len(y)}\n",
    "    \n",
    "    def training_epoch_end(self, outputs):\n",
    "        avg_loss = torch.stack([x['loss'] for x in outputs]).mean()\n",
    "        correct = sum([x[\"correct\"] for  x in outputs])\n",
    "        total = sum([x[\"total\"] for  x in outputs])\n",
    "        self.log(\"train_loss\", avg_loss, prog_bar=True, logger=True)\n",
    "        self.log(\"train_acc\", correct/total, prog_bar=True, logger=True)\n",
    "    \n",
    "    def validation_epoch_end(self, outputs):\n",
    "        avg_loss = torch.stack([x['loss'] for x in outputs]).mean()\n",
    "        correct = sum([x[\"correct\"] for  x in outputs])\n",
    "        total = sum([x[\"total\"] for  x in outputs])\n",
    "        self.log(\"val_loss\", avg_loss, prog_bar=True, logger=True)\n",
    "        self.log(\"val_acc\", correct/total, prog_bar=True, logger=True)\n",
    "\n",
    "    def configure_optimizers(self):\n",
    "        return torch.optim.Adam(self.parameters(), lr=0.001)\n",
    "\n",
    "    def prepare_data(self):\n",
    "        #MNIST(os.getcwd(), train=True, download=True, transform=transforms.ToTensor())\n",
    "        MNIST(os.getcwd(), train=True, download=True)\n",
    "\n",
    "    def train_dataloader(self):\n",
    "        mnist_train = MNIST(os.getcwd(), train=True, download=False, transform=transform)\n",
    "        loader = DataLoader(mnist_train, batch_size=batch_sz, num_workers=4)\n",
    "        return loader\n",
    "\n",
    "    def val_dataloader(self):\n",
    "        mnist_val = MNIST(os.getcwd(), train=False, download=False, transform=transform)\n",
    "        return DataLoader(mnist_val, batch_size=batch_sz, num_workers=4)"
   ]
  },
  {
   "cell_type": "code",
   "execution_count": 5,
   "id": "4678bd7a",
   "metadata": {},
   "outputs": [
    {
     "name": "stderr",
     "output_type": "stream",
     "text": [
      "GPU available: True, used: True\n",
      "TPU available: False, using: 0 TPU cores\n",
      "IPU available: False, using: 0 IPUs\n"
     ]
    }
   ],
   "source": [
    "tb_logger = loggers.TensorBoardLogger('logs/')\n",
    "model = CNNModel()\n",
    "trainer = pl.Trainer(gpus=1, max_epochs=num_epochs, logger=tb_logger, checkpoint_callback=False)"
   ]
  },
  {
   "cell_type": "code",
   "execution_count": 6,
   "id": "2a9ed8c8",
   "metadata": {},
   "outputs": [
    {
     "name": "stderr",
     "output_type": "stream",
     "text": [
      "LOCAL_RANK: 0 - CUDA_VISIBLE_DEVICES: [0]\n",
      "\n",
      "  | Name     | Type      | Params\n",
      "---------------------------------------\n",
      "0 | cnn1     | Conv2d    | 416   \n",
      "1 | maxpool1 | MaxPool2d | 0     \n",
      "2 | cnn2     | Conv2d    | 12.8 K\n",
      "3 | maxpool2 | MaxPool2d | 0     \n",
      "4 | fc1      | Linear    | 5.1 K \n",
      "5 | softmax  | Softmax   | 0     \n",
      "---------------------------------------\n",
      "18.4 K    Trainable params\n",
      "0         Non-trainable params\n",
      "18.4 K    Total params\n",
      "0.074     Total estimated model params size (MB)\n"
     ]
    },
    {
     "name": "stdout",
     "output_type": "stream",
     "text": [
      "Validation sanity check:   0%|                                                                                                                                                            | 0/2 [00:00<?, ?it/s]"
     ]
    },
    {
     "name": "stderr",
     "output_type": "stream",
     "text": [
      "D:\\Application\\miniconda\\envs\\opencv\\lib\\site-packages\\torch\\nn\\functional.py:718: UserWarning: Named tensors and all their associated APIs are an experimental feature and subject to change. Please do not use them for anything important until they are released as stable. (Triggered internally at  ..\\c10/core/TensorImpl.h:1156.)\n",
      "  return torch.max_pool2d(input, kernel_size, stride, padding, dilation, ceil_mode)\n"
     ]
    },
    {
     "name": "stdout",
     "output_type": "stream",
     "text": [
      "Epoch 0:   4%|█████▍                                                                                                                                       | 27/700 [00:01<00:40, 16.45it/s, loss=2.07, v_num=7]"
     ]
    },
    {
     "name": "stderr",
     "output_type": "stream",
     "text": [
      "D:\\Application\\miniconda\\envs\\opencv\\lib\\site-packages\\pytorch_lightning\\trainer\\connectors\\logger_connector\\result.py:398: LightningDeprecationWarning: One of the returned values {'correct', 'total', 'log'} has a `grad_fn`. We will detach it automatically but this behaviour will change in v1.6. Please detach it manually: `return {'loss': ..., 'something': something.detach()}`\n",
      "  f\"One of the returned values {set(extra.keys())} has a `grad_fn`. We will detach it automatically\"\n"
     ]
    },
    {
     "name": "stdout",
     "output_type": "stream",
     "text": [
      "Epoch 0:  86%|███████████████████████████████████████████████████████████████████████████████████████████████████████████████████████▏                   | 600/700 [00:05<00:00, 107.49it/s, loss=1.57, v_num=7]\n",
      "Validating: 0it [00:00, ?it/s]\u001b[A\n",
      "Validating:   0%|                                                                                                                                                                       | 0/100 [00:00<?, ?it/s]\u001b[A\n",
      "Epoch 0:  87%|██████████████████████████████████████████████████████████████████████████████████████████████████████████████████████████▍                 | 612/700 [00:07<00:01, 85.89it/s, loss=1.57, v_num=7]\u001b[A\n",
      "Epoch 0:  92%|████████████████████████████████████████████████████████████████████████████████████████████████████████████████████████████████▍           | 642/700 [00:07<00:00, 88.85it/s, loss=1.57, v_num=7]\u001b[A\n",
      "Epoch 0:  96%|██████████████████████████████████████████████████████████████████████████████████████████████████████████████████████████████████████▍     | 672/700 [00:07<00:00, 91.38it/s, loss=1.57, v_num=7]\u001b[A\n",
      "Epoch 0: 100%|█████████████████████████████████████████████████████████████████████████████████████████████████████████████| 700/700 [00:07<00:00, 92.34it/s, loss=1.57, v_num=7, val_loss=1.580, val_acc=0.885]\u001b[A\n",
      "Epoch 1:  86%|██████████████████████████████████████████████████████████████▌          | 600/700 [00:05<00:00, 116.46it/s, loss=1.56, v_num=7, val_loss=1.580, val_acc=0.885, train_loss=1.570, train_acc=0.900]\u001b[A\n",
      "Validating: 0it [00:00, ?it/s]\u001b[A\n",
      "Validating:   0%|                                                                                                                                                                       | 0/100 [00:00<?, ?it/s]\u001b[A\n",
      "Validating:   1%|█▌                                                                                                                                                             | 1/100 [00:01<02:23,  1.45s/it]\u001b[A\n",
      "Epoch 1:  90%|██████████████████████████████████████████████████████████████████▌       | 630/700 [00:06<00:00, 93.90it/s, loss=1.56, v_num=7, val_loss=1.580, val_acc=0.885, train_loss=1.570, train_acc=0.900]\u001b[A\n",
      "Epoch 1:  94%|█████████████████████████████████████████████████████████████████████▉    | 661/700 [00:06<00:00, 97.03it/s, loss=1.56, v_num=7, val_loss=1.580, val_acc=0.885, train_loss=1.570, train_acc=0.900]\u001b[A\n",
      "Epoch 1: 100%|██████████████████████████████████████████████████████████████████████████| 700/700 [00:07<00:00, 98.70it/s, loss=1.56, v_num=7, val_loss=1.570, val_acc=0.892, train_loss=1.570, train_acc=0.900]\u001b[A\n",
      "Epoch 2:  86%|██████████████████████████████████████████████████████████████▌          | 600/700 [00:05<00:00, 116.50it/s, loss=1.56, v_num=7, val_loss=1.570, val_acc=0.892, train_loss=1.570, train_acc=0.890]\u001b[A\n",
      "Validating: 0it [00:00, ?it/s]\u001b[A\n",
      "Validating:   0%|                                                                                                                                                                       | 0/100 [00:00<?, ?it/s]\u001b[A\n",
      "Epoch 2:  89%|█████████████████████████████████████████████████████████████████▌        | 620/700 [00:06<00:00, 91.82it/s, loss=1.56, v_num=7, val_loss=1.570, val_acc=0.892, train_loss=1.570, train_acc=0.890]\u001b[A\n",
      "Epoch 2:  93%|████████████████████████████████████████████████████████████████████▊     | 651/700 [00:06<00:00, 94.87it/s, loss=1.56, v_num=7, val_loss=1.570, val_acc=0.892, train_loss=1.570, train_acc=0.890]\u001b[A\n",
      "Epoch 2:  97%|████████████████████████████████████████████████████████████████████████  | 682/700 [00:06<00:00, 97.85it/s, loss=1.56, v_num=7, val_loss=1.570, val_acc=0.892, train_loss=1.570, train_acc=0.890]\u001b[A\n",
      "Epoch 2: 100%|██████████████████████████████████████████████████████████████████████████| 700/700 [00:07<00:00, 97.71it/s, loss=1.56, v_num=7, val_loss=1.560, val_acc=0.898, train_loss=1.570, train_acc=0.890]\u001b[A\n",
      "Epoch 3:  86%|██████████████████████████████████████████████████████████████▌          | 600/700 [00:05<00:00, 113.28it/s, loss=1.56, v_num=7, val_loss=1.560, val_acc=0.898, train_loss=1.560, train_acc=0.900]\u001b[A\n",
      "Validating: 0it [00:00, ?it/s]\u001b[A\n",
      "Validating:   0%|                                                                                                                                                                       | 0/100 [00:00<?, ?it/s]\u001b[A\n",
      "Epoch 3:  89%|█████████████████████████████████████████████████████████████████▌        | 620/700 [00:06<00:00, 91.07it/s, loss=1.56, v_num=7, val_loss=1.560, val_acc=0.898, train_loss=1.560, train_acc=0.900]\u001b[A\n",
      "Epoch 3:  93%|████████████████████████████████████████████████████████████████████▊     | 651/700 [00:06<00:00, 94.14it/s, loss=1.56, v_num=7, val_loss=1.560, val_acc=0.898, train_loss=1.560, train_acc=0.900]\u001b[A\n",
      "Epoch 3:  97%|████████████████████████████████████████████████████████████████████████  | 682/700 [00:07<00:00, 96.93it/s, loss=1.56, v_num=7, val_loss=1.560, val_acc=0.898, train_loss=1.560, train_acc=0.900]\u001b[A\n",
      "Epoch 3: 100%|██████████████████████████████████████████████████████████████████████████| 700/700 [00:07<00:00, 96.96it/s, loss=1.56, v_num=7, val_loss=1.560, val_acc=0.899, train_loss=1.560, train_acc=0.900]\u001b[A\n",
      "Epoch 4:  86%|██████████████████████████████████████████████████████████████▌          | 600/700 [00:05<00:00, 116.03it/s, loss=1.56, v_num=7, val_loss=1.560, val_acc=0.899, train_loss=1.560, train_acc=0.900]\u001b[A\n",
      "Validating: 0it [00:00, ?it/s]\u001b[A\n",
      "Validating:   0%|                                                                                                                                                                       | 0/100 [00:00<?, ?it/s]\u001b[A\n",
      "Epoch 4:  89%|█████████████████████████████████████████████████████████████████▌        | 620/700 [00:06<00:00, 92.57it/s, loss=1.56, v_num=7, val_loss=1.560, val_acc=0.899, train_loss=1.560, train_acc=0.900]\u001b[A\n",
      "Epoch 4:  93%|████████████████████████████████████████████████████████████████████▊     | 651/700 [00:06<00:00, 95.66it/s, loss=1.56, v_num=7, val_loss=1.560, val_acc=0.899, train_loss=1.560, train_acc=0.900]\u001b[A\n",
      "Epoch 4:  97%|████████████████████████████████████████████████████████████████████████  | 682/700 [00:06<00:00, 98.69it/s, loss=1.56, v_num=7, val_loss=1.560, val_acc=0.899, train_loss=1.560, train_acc=0.900]\u001b[A\n",
      "Epoch 4: 100%|██████████████████████████████████████████████████████████████████████████| 700/700 [00:07<00:00, 98.57it/s, loss=1.56, v_num=7, val_loss=1.560, val_acc=0.900, train_loss=1.560, train_acc=0.900]\u001b[A\n",
      "Epoch 4: 100%|██████████████████████████████████████████████████████████████████████████| 700/700 [00:07<00:00, 98.24it/s, loss=1.56, v_num=7, val_loss=1.560, val_acc=0.900, train_loss=1.560, train_acc=0.900]\u001b[A\n"
     ]
    }
   ],
   "source": [
    "trainer.fit(model)"
   ]
  },
  {
   "cell_type": "code",
   "execution_count": 7,
   "id": "ed05eae7",
   "metadata": {},
   "outputs": [],
   "source": [
    "PATH = \"D:/projects/computer_vision/sudoku_solver/model/base_recognizer.pth\"\n",
    "torch.save(model.state_dict(), PATH)"
   ]
  },
  {
   "cell_type": "code",
   "execution_count": null,
   "id": "402fe757",
   "metadata": {},
   "outputs": [],
   "source": [
    "#img = cv2.imread('cell.png')\n",
    "#img = cv2.cvtColor(img, cv2.COLOR_BGR2GRAY)\n",
    "#img = cv2.resize(img, (28, 28))\n",
    "#img = Image.fromarray(img)\n",
    "#img = transform(img)\n",
    "#img = img.reshape(1, 1, 28, 28)\n",
    "#predictions = model(img.float())\n",
    "#predictions = predictions.detach().numpy()\n",
    "#print(np.argmax(predictions))"
   ]
  },
  {
   "cell_type": "code",
   "execution_count": null,
   "id": "603a0638",
   "metadata": {},
   "outputs": [],
   "source": []
  }
 ],
 "metadata": {
  "kernelspec": {
   "display_name": "Python 3",
   "language": "python",
   "name": "python3"
  },
  "language_info": {
   "codemirror_mode": {
    "name": "ipython",
    "version": 3
   },
   "file_extension": ".py",
   "mimetype": "text/x-python",
   "name": "python",
   "nbconvert_exporter": "python",
   "pygments_lexer": "ipython3",
   "version": "3.6.13"
  }
 },
 "nbformat": 4,
 "nbformat_minor": 5
}
