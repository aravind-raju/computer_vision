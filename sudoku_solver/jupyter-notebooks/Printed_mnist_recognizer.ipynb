{
 "cells": [
  {
   "cell_type": "code",
   "execution_count": 1,
   "id": "7a331e80",
   "metadata": {},
   "outputs": [],
   "source": [
    "import os\n",
    "import glob\n",
    "import random\n",
    "\n",
    "import torch\n",
    "import torch.nn as nn\n",
    "from torch.nn import functional as F\n",
    "from torch.utils.data import DataLoader\n",
    "from torchvision import transforms\n",
    "from torch.utils.data import Dataset\n",
    "\n",
    "import pytorch_lightning as pl\n",
    "from pytorch_lightning import loggers\n",
    "import numpy as np\n",
    "\n",
    "from PIL import Image\n",
    "from PIL import ImageFont\n",
    "from PIL import ImageDraw"
   ]
  },
  {
   "cell_type": "code",
   "execution_count": 2,
   "id": "53175e6e",
   "metadata": {},
   "outputs": [],
   "source": [
    "fonts_folder = \"D:/projects/computer_vision/sudoku_solver/fonts/\"\n",
    "batch_sz = 100\n",
    "n_iters = 2500\n",
    "features_train = 60000\n",
    "#num_epochs = int(n_iters / (features_train / batch_sz))\n",
    "num_epochs = 5\n",
    "loss_fn = nn.CrossEntropyLoss()\n",
    "transform = transforms.Compose([transforms.Resize((28, 28)), transforms.ToTensor(),\n",
    "                                transforms.Normalize((0.5, ), (0.5, ))])"
   ]
  },
  {
   "cell_type": "code",
   "execution_count": 3,
   "id": "c8791b90",
   "metadata": {},
   "outputs": [],
   "source": [
    "class PrintedMNIST(Dataset):\n",
    "    \"\"\"Generates images containing a single digit from font\"\"\"\n",
    "\n",
    "    def __init__(self, N, random_state, transform=None):\n",
    "        \"\"\"\"\"\"\n",
    "        self.N = N\n",
    "        self.random_state = random_state\n",
    "        self.transform = transform\n",
    "\n",
    "        #fonts_folder = \"fonts\"\n",
    "\n",
    "        self.fonts = [fonts_folder + \"helvetica_bold1.ttf\", fonts_folder + 'AovelSansRounded-rdDL.ttf']\n",
    "        #self.fonts = glob.glob(fonts_folder + \"/*.ttf\")\n",
    "\n",
    "        random.seed(random_state)\n",
    "\n",
    "    def __len__(self):\n",
    "        return self.N\n",
    "\n",
    "    def __getitem__(self, idx):\n",
    "\n",
    "        target = random.randint(0, 9)\n",
    "        color = 0\n",
    "        # Generate image\n",
    "        img = Image.new(\"L\", (256, 256))\n",
    "        img = np.array(img)\n",
    "        img[img == 0] = 225\n",
    "        img = Image.fromarray(img)\n",
    "        \n",
    "        target = random.randint(0, 9)\n",
    "        size = 200\n",
    "        x = 20\n",
    "        y = 20\n",
    "\n",
    "        draw = ImageDraw.Draw(img)\n",
    "        font = ImageFont.truetype(random.choice(self.fonts), size)\n",
    "        draw.text((x, y), str(target), color, font=font)\n",
    "        shape = [(0, 0), (256 - 10, 256 - 10)]\n",
    "        draw.rectangle(shape, outline =\"black\", width=4)\n",
    "\n",
    "        img = img.resize((28, 28), Image.BILINEAR)\n",
    "\n",
    "        if self.transform:\n",
    "            img = self.transform(img)\n",
    "\n",
    "        return img, target"
   ]
  },
  {
   "cell_type": "code",
   "execution_count": 4,
   "id": "5050e017",
   "metadata": {},
   "outputs": [],
   "source": [
    "class CNNModel(pl.LightningModule):\n",
    "\n",
    "    def __init__(self, classes=10):\n",
    "        super().__init__()\n",
    "        self.save_hyperparameters()\n",
    "        self.cnn1 = nn.Conv2d(in_channels=1, out_channels=16, kernel_size=5, stride=1, padding=0)\n",
    "        self.maxpool1 = nn.MaxPool2d(kernel_size=2)\n",
    "        self.cnn2 = nn.Conv2d(in_channels=16, out_channels=32, kernel_size=5, stride=1, padding=0)\n",
    "        self.maxpool2 = nn.MaxPool2d(kernel_size=2)\n",
    "        self.fc1 = nn.Linear(32 * 4 * 4, 10)\n",
    "        self.softmax = nn.Softmax(dim=1)\n",
    "\n",
    "    def forward(self, x):\n",
    "        batch_size, channels, width, height = x.size()\n",
    "        x = self.cnn1(x)\n",
    "        x = F.relu(x)\n",
    "        x = self.maxpool1(x)\n",
    "        x = self.cnn2(x)\n",
    "        x = F.relu(x)\n",
    "        x = self.maxpool2(x)\n",
    "        x = x.view(batch_size, -1)\n",
    "        x = self.fc1(x)\n",
    "        out = self.softmax(x)\n",
    "        return out\n",
    "\n",
    "    def training_step(self, batch, batch_idx):\n",
    "        x, y = batch\n",
    "        y_hat = self(x)\n",
    "        loss = loss_fn(y_hat, y)\n",
    "        correct = (y == y_hat.argmax(axis=1)).sum()\n",
    "        logs = {'train_loss': loss}\n",
    "        return {'loss': loss, 'log': logs, 'correct': correct, 'total': len(y)}\n",
    "\n",
    "    def validation_step(self, batch, batch_idx):\n",
    "        x, y = batch\n",
    "        y_hat = self.forward(x)\n",
    "        loss = loss_fn(y_hat, y)\n",
    "        correct = (y == y_hat.argmax(axis=1)).sum()\n",
    "        logs = {'val_loss': loss}\n",
    "        return {'loss': loss, 'log': logs, 'correct': correct, 'total': len(y)}\n",
    "    \n",
    "    def training_epoch_end(self, outputs):\n",
    "        avg_loss = torch.stack([x['loss'] for x in outputs]).mean()\n",
    "        correct = sum([x[\"correct\"] for  x in outputs])\n",
    "        total = sum([x[\"total\"] for  x in outputs])\n",
    "        self.log(\"train_loss\", avg_loss, prog_bar=True, logger=True)\n",
    "        self.log(\"train_acc\", correct/total, prog_bar=True, logger=True)\n",
    "    \n",
    "    def validation_epoch_end(self, outputs):\n",
    "        avg_loss = torch.stack([x['loss'] for x in outputs]).mean()\n",
    "        correct = sum([x[\"correct\"] for  x in outputs])\n",
    "        total = sum([x[\"total\"] for  x in outputs])\n",
    "        self.log(\"val_loss\", avg_loss, prog_bar=True, logger=True)\n",
    "        self.log(\"val_acc\", correct/total, prog_bar=True, logger=True)\n",
    "\n",
    "    def configure_optimizers(self):\n",
    "        return torch.optim.Adam(self.parameters(), lr=0.001)\n",
    "\n",
    "    def train_dataloader(self):\n",
    "        train_set = PrintedMNIST(50000, -666, transform)\n",
    "        train_loader = DataLoader(train_set, batch_size=batch_sz, shuffle=False, num_workers=0, drop_last=True)\n",
    "        return train_loader\n",
    "\n",
    "    def val_dataloader(self):\n",
    "        val_set = PrintedMNIST(5000, 33, transform)\n",
    "        val_loader = DataLoader(val_set, batch_size=batch_sz, num_workers=0)\n",
    "        return val_loader"
   ]
  },
  {
   "cell_type": "code",
   "execution_count": 5,
   "id": "0dc256eb",
   "metadata": {},
   "outputs": [
    {
     "name": "stderr",
     "output_type": "stream",
     "text": [
      "GPU available: True, used: True\n",
      "TPU available: False, using: 0 TPU cores\n",
      "IPU available: False, using: 0 IPUs\n"
     ]
    }
   ],
   "source": [
    "tb_logger = loggers.TensorBoardLogger('logs/')\n",
    "model = CNNModel()\n",
    "trainer = pl.Trainer(gpus=1, max_epochs=num_epochs, logger=tb_logger, checkpoint_callback=False)"
   ]
  },
  {
   "cell_type": "code",
   "execution_count": 6,
   "id": "546191bf",
   "metadata": {},
   "outputs": [
    {
     "name": "stderr",
     "output_type": "stream",
     "text": [
      "LOCAL_RANK: 0 - CUDA_VISIBLE_DEVICES: [0]\n",
      "\n",
      "  | Name     | Type      | Params\n",
      "---------------------------------------\n",
      "0 | cnn1     | Conv2d    | 416   \n",
      "1 | maxpool1 | MaxPool2d | 0     \n",
      "2 | cnn2     | Conv2d    | 12.8 K\n",
      "3 | maxpool2 | MaxPool2d | 0     \n",
      "4 | fc1      | Linear    | 5.1 K \n",
      "5 | softmax  | Softmax   | 0     \n",
      "---------------------------------------\n",
      "18.4 K    Trainable params\n",
      "0         Non-trainable params\n",
      "18.4 K    Total params\n",
      "0.074     Total estimated model params size (MB)\n"
     ]
    },
    {
     "name": "stdout",
     "output_type": "stream",
     "text": [
      "Validation sanity check:   0%|                                                                                                                                                            | 0/2 [00:00<?, ?it/s]"
     ]
    },
    {
     "name": "stderr",
     "output_type": "stream",
     "text": [
      "D:\\Application\\miniconda\\envs\\opencv\\lib\\site-packages\\pytorch_lightning\\trainer\\data_loading.py:106: UserWarning: The dataloader, val dataloader 0, does not have many workers which may be a bottleneck. Consider increasing the value of the `num_workers` argument` (try 12 which is the number of cpus on this machine) in the `DataLoader` init to improve performance.\n",
      "  f\"The dataloader, {name}, does not have many workers which may be a bottleneck.\"\n",
      "D:\\Application\\miniconda\\envs\\opencv\\lib\\site-packages\\torch\\nn\\functional.py:718: UserWarning: Named tensors and all their associated APIs are an experimental feature and subject to change. Please do not use them for anything important until they are released as stable. (Triggered internally at  ..\\c10/core/TensorImpl.h:1156.)\n",
      "  return torch.max_pool2d(input, kernel_size, stride, padding, dilation, ceil_mode)\n"
     ]
    },
    {
     "name": "stdout",
     "output_type": "stream",
     "text": [
      "                                                                                                                                                                                                                "
     ]
    },
    {
     "name": "stderr",
     "output_type": "stream",
     "text": [
      "D:\\Application\\miniconda\\envs\\opencv\\lib\\site-packages\\pytorch_lightning\\trainer\\data_loading.py:106: UserWarning: The dataloader, train dataloader, does not have many workers which may be a bottleneck. Consider increasing the value of the `num_workers` argument` (try 12 which is the number of cpus on this machine) in the `DataLoader` init to improve performance.\n",
      "  f\"The dataloader, {name}, does not have many workers which may be a bottleneck.\"\n"
     ]
    },
    {
     "name": "stdout",
     "output_type": "stream",
     "text": [
      "Epoch 0:   0%|                                                                                                                                                                | 0/550 [00:00<00:00, 1002.70it/s]"
     ]
    },
    {
     "name": "stderr",
     "output_type": "stream",
     "text": [
      "D:\\Application\\miniconda\\envs\\opencv\\lib\\site-packages\\pytorch_lightning\\trainer\\connectors\\logger_connector\\result.py:398: LightningDeprecationWarning: One of the returned values {'total', 'log', 'correct'} has a `grad_fn`. We will detach it automatically but this behaviour will change in v1.6. Please detach it manually: `return {'loss': ..., 'something': something.detach()}`\n",
      "  f\"One of the returned values {set(extra.keys())} has a `grad_fn`. We will detach it automatically\"\n"
     ]
    },
    {
     "name": "stdout",
     "output_type": "stream",
     "text": [
      "Epoch 0:  91%|██████████████████████████████████████████████████████████████████████████████████████████████████████████████████████████████▎            | 500/550 [00:47<00:04, 10.48it/s, loss=1.46, v_num=20]\n",
      "Validating: 0it [00:00, ?it/s]\u001b[A\n",
      "Epoch 0:  91%|██████████████████████████████████████████████████████████████████████████████████████████████████████████████████████████████▊            | 502/550 [00:47<00:04, 10.50it/s, loss=1.46, v_num=20]\u001b[A\n",
      "Validating:   4%|██████▍                                                                                                                                                         | 2/50 [00:00<00:04, 10.84it/s]\u001b[A\n",
      "Epoch 0:  92%|███████████████████████████████████████████████████████████████████████████████████████████████████████████████████████████████▋           | 505/550 [00:48<00:04, 10.50it/s, loss=1.46, v_num=20]\u001b[A\n",
      "Epoch 0:  92%|████████████████████████████████████████████████████████████████████████████████████████████████████████████████████████████████▍          | 508/550 [00:48<00:03, 10.50it/s, loss=1.46, v_num=20]\u001b[A\n",
      "Validating:  16%|█████████████████████████▌                                                                                                                                      | 8/50 [00:00<00:03, 10.83it/s]\u001b[A\n",
      "Epoch 0:  93%|█████████████████████████████████████████████████████████████████████████████████████████████████████████████████████████████████▏         | 511/550 [00:48<00:03, 10.50it/s, loss=1.46, v_num=20]\u001b[A\n",
      "Epoch 0:  93%|█████████████████████████████████████████████████████████████████████████████████████████████████████████████████████████████████▉         | 514/550 [00:49<00:03, 10.50it/s, loss=1.46, v_num=20]\u001b[A\n",
      "Validating:  28%|████████████████████████████████████████████▌                                                                                                                  | 14/50 [00:01<00:03, 10.79it/s]\u001b[A\n",
      "Epoch 0:  94%|██████████████████████████████████████████████████████████████████████████████████████████████████████████████████████████████████▋        | 517/550 [00:49<00:03, 10.51it/s, loss=1.46, v_num=20]\u001b[A\n",
      "Epoch 0:  95%|███████████████████████████████████████████████████████████████████████████████████████████████████████████████████████████████████▍       | 520/550 [00:49<00:02, 10.51it/s, loss=1.46, v_num=20]\u001b[A\n",
      "Validating:  40%|███████████████████████████████████████████████████████████████▌                                                                                               | 20/50 [00:01<00:02, 10.70it/s]\u001b[A\n",
      "Epoch 0:  95%|████████████████████████████████████████████████████████████████████████████████████████████████████████████████████████████████████▏      | 523/550 [00:49<00:02, 10.51it/s, loss=1.46, v_num=20]\u001b[A\n",
      "Epoch 0:  96%|████████████████████████████████████████████████████████████████████████████████████████████████████████████████████████████████████▉      | 526/550 [00:50<00:02, 10.51it/s, loss=1.46, v_num=20]\u001b[A\n",
      "Validating:  52%|██████████████████████████████████████████████████████████████████████████████████▋                                                                            | 26/50 [00:02<00:02, 10.77it/s]\u001b[A\n",
      "Epoch 0:  96%|█████████████████████████████████████████████████████████████████████████████████████████████████████████████████████████████████████▋     | 529/550 [00:50<00:01, 10.51it/s, loss=1.46, v_num=20]\u001b[A\n",
      "Epoch 0:  97%|██████████████████████████████████████████████████████████████████████████████████████████████████████████████████████████████████████▍    | 532/550 [00:50<00:01, 10.51it/s, loss=1.46, v_num=20]\u001b[A\n",
      "Validating:  64%|█████████████████████████████████████████████████████████████████████████████████████████████████████▊                                                         | 32/50 [00:02<00:01, 10.75it/s]\u001b[A\n",
      "Epoch 0:  97%|███████████████████████████████████████████████████████████████████████████████████████████████████████████████████████████████████████▏   | 535/550 [00:50<00:01, 10.51it/s, loss=1.46, v_num=20]\u001b[A\n",
      "Epoch 0:  98%|███████████████████████████████████████████████████████████████████████████████████████████████████████████████████████████████████████▉   | 538/550 [00:51<00:01, 10.52it/s, loss=1.46, v_num=20]\u001b[A\n",
      "Validating:  76%|████████████████████████████████████████████████████████████████████████████████████████████████████████████████████████▊                                      | 38/50 [00:03<00:01, 10.78it/s]\u001b[A\n",
      "Epoch 0:  98%|████████████████████████████████████████████████████████████████████████████████████████████████████████████████████████████████████████▋  | 541/550 [00:51<00:00, 10.52it/s, loss=1.46, v_num=20]\u001b[A\n",
      "Epoch 0:  99%|█████████████████████████████████████████████████████████████████████████████████████████████████████████████████████████████████████████▍ | 544/550 [00:51<00:00, 10.52it/s, loss=1.46, v_num=20]\u001b[A\n",
      "Validating:  88%|███████████████████████████████████████████████████████████████████████████████████████████████████████████████████████████████████████████▉                   | 44/50 [00:04<00:00, 10.74it/s]\u001b[A\n",
      "Epoch 0:  99%|██████████████████████████████████████████████████████████████████████████████████████████████████████████████████████████████████████████▏| 547/550 [00:52<00:00, 10.52it/s, loss=1.46, v_num=20]\u001b[A\n",
      "Epoch 0: 100%|███████████████████████████████████████████████████████████████████████████████████████████████████████████████████████████████████████████| 550/550 [00:52<00:00, 10.52it/s, loss=1.46, v_num=20]\u001b[A\n",
      "Epoch 0: 100%|████████████████████████████████████████████████████████████████████████████████████████████████████████████| 550/550 [00:52<00:00, 10.50it/s, loss=1.46, v_num=20, val_loss=1.460, val_acc=1.000]\u001b[A\n",
      "Epoch 1:  91%|██████████████████████████████████████████████████████████████████▍      | 501/550 [00:47<00:04, 10.54it/s, loss=1.46, v_num=20, val_loss=1.460, val_acc=1.000, train_loss=1.460, train_acc=1.000]\u001b[A\n",
      "Validating: 0it [00:00, ?it/s]\u001b[A\n",
      "Validating:   0%|                                                                                                                                                                        | 0/50 [00:00<?, ?it/s]\u001b[A\n",
      "Epoch 1:  92%|██████████████████████████████████████████████████████████████████▉      | 504/550 [00:47<00:04, 10.54it/s, loss=1.46, v_num=20, val_loss=1.460, val_acc=1.000, train_loss=1.460, train_acc=1.000]\u001b[A\n",
      "Validating:   8%|████████████▊                                                                                                                                                   | 4/50 [00:00<00:04, 10.79it/s]\u001b[A\n",
      "Epoch 1:  92%|███████████████████████████████████████████████████████████████████▎     | 507/550 [00:48<00:04, 10.54it/s, loss=1.46, v_num=20, val_loss=1.460, val_acc=1.000, train_loss=1.460, train_acc=1.000]\u001b[A\n",
      "Epoch 1:  93%|███████████████████████████████████████████████████████████████████▋     | 510/550 [00:48<00:03, 10.54it/s, loss=1.46, v_num=20, val_loss=1.460, val_acc=1.000, train_loss=1.460, train_acc=1.000]\u001b[A\n",
      "Validating:  20%|███████████████████████████████▊                                                                                                                               | 10/50 [00:00<00:03, 10.76it/s]\u001b[A\n",
      "Epoch 1:  93%|████████████████████████████████████████████████████████████████████     | 513/550 [00:48<00:03, 10.54it/s, loss=1.46, v_num=20, val_loss=1.460, val_acc=1.000, train_loss=1.460, train_acc=1.000]\u001b[A\n",
      "Epoch 1:  94%|████████████████████████████████████████████████████████████████████▍    | 516/550 [00:49<00:03, 10.55it/s, loss=1.46, v_num=20, val_loss=1.460, val_acc=1.000, train_loss=1.460, train_acc=1.000]\u001b[A\n",
      "Validating:  32%|██████████████████████████████████████████████████▉                                                                                                            | 16/50 [00:01<00:03, 10.69it/s]\u001b[A\n",
      "Epoch 1:  94%|████████████████████████████████████████████████████████████████████▉    | 519/550 [00:49<00:02, 10.54it/s, loss=1.46, v_num=20, val_loss=1.460, val_acc=1.000, train_loss=1.460, train_acc=1.000]\u001b[A\n"
     ]
    },
    {
     "name": "stdout",
     "output_type": "stream",
     "text": [
      "Epoch 1:  95%|█████████████████████████████████████████████████████████████████████▎   | 522/550 [00:49<00:02, 10.55it/s, loss=1.46, v_num=20, val_loss=1.460, val_acc=1.000, train_loss=1.460, train_acc=1.000]\u001b[A\n",
      "Validating:  44%|█████████████████████████████████████████████████████████████████████▉                                                                                         | 22/50 [00:02<00:02, 10.68it/s]\u001b[A\n",
      "Epoch 1:  95%|█████████████████████████████████████████████████████████████████████▋   | 525/550 [00:49<00:02, 10.55it/s, loss=1.46, v_num=20, val_loss=1.460, val_acc=1.000, train_loss=1.460, train_acc=1.000]\u001b[A\n",
      "Epoch 1:  96%|██████████████████████████████████████████████████████████████████████   | 528/550 [00:50<00:02, 10.55it/s, loss=1.46, v_num=20, val_loss=1.460, val_acc=1.000, train_loss=1.460, train_acc=1.000]\u001b[A\n",
      "Validating:  56%|█████████████████████████████████████████████████████████████████████████████████████████                                                                      | 28/50 [00:02<00:02, 10.80it/s]\u001b[A\n",
      "Epoch 1:  97%|██████████████████████████████████████████████████████████████████████▍  | 531/550 [00:50<00:01, 10.55it/s, loss=1.46, v_num=20, val_loss=1.460, val_acc=1.000, train_loss=1.460, train_acc=1.000]\u001b[A\n",
      "Epoch 1:  97%|██████████████████████████████████████████████████████████████████████▉  | 534/550 [00:50<00:01, 10.55it/s, loss=1.46, v_num=20, val_loss=1.460, val_acc=1.000, train_loss=1.460, train_acc=1.000]\u001b[A\n",
      "Validating:  68%|████████████████████████████████████████████████████████████████████████████████████████████████████████████                                                   | 34/50 [00:03<00:01, 10.60it/s]\u001b[A\n",
      "Epoch 1:  98%|███████████████████████████████████████████████████████████████████████▎ | 537/550 [00:50<00:01, 10.55it/s, loss=1.46, v_num=20, val_loss=1.460, val_acc=1.000, train_loss=1.460, train_acc=1.000]\u001b[A\n",
      "Epoch 1:  98%|███████████████████████████████████████████████████████████████████████▋ | 540/550 [00:51<00:00, 10.55it/s, loss=1.46, v_num=20, val_loss=1.460, val_acc=1.000, train_loss=1.460, train_acc=1.000]\u001b[A\n",
      "Validating:  80%|███████████████████████████████████████████████████████████████████████████████████████████████████████████████████████████████▏                               | 40/50 [00:03<00:00, 10.75it/s]\u001b[A\n",
      "Epoch 1:  99%|████████████████████████████████████████████████████████████████████████ | 543/550 [00:51<00:00, 10.55it/s, loss=1.46, v_num=20, val_loss=1.460, val_acc=1.000, train_loss=1.460, train_acc=1.000]\u001b[A\n",
      "Epoch 1:  99%|████████████████████████████████████████████████████████████████████████▍| 546/550 [00:51<00:00, 10.55it/s, loss=1.46, v_num=20, val_loss=1.460, val_acc=1.000, train_loss=1.460, train_acc=1.000]\u001b[A\n",
      "Validating:  92%|██████████████████████████████████████████████████████████████████████████████████████████████████████████████████████████████████████████████████▎            | 46/50 [00:04<00:00, 10.76it/s]\u001b[A\n",
      "Epoch 1: 100%|████████████████████████████████████████████████████████████████████████▊| 549/550 [00:52<00:00, 10.56it/s, loss=1.46, v_num=20, val_loss=1.460, val_acc=1.000, train_loss=1.460, train_acc=1.000]\u001b[A\n",
      "Epoch 1: 100%|█████████████████████████████████████████████████████████████████████████| 550/550 [00:52<00:00, 10.54it/s, loss=1.46, v_num=20, val_loss=1.460, val_acc=1.000, train_loss=1.460, train_acc=1.000]\u001b[A\n",
      "Epoch 2:  91%|██████████████████████████████████████████████████████████████████▍      | 501/550 [00:47<00:04, 10.54it/s, loss=1.46, v_num=20, val_loss=1.460, val_acc=1.000, train_loss=1.460, train_acc=1.000]\u001b[A\n",
      "Validating: 0it [00:00, ?it/s]\u001b[A\n",
      "Validating:   0%|                                                                                                                                                                        | 0/50 [00:00<?, ?it/s]\u001b[A\n",
      "Epoch 2:  92%|██████████████████████████████████████████████████████████████████▉      | 504/550 [00:47<00:04, 10.54it/s, loss=1.46, v_num=20, val_loss=1.460, val_acc=1.000, train_loss=1.460, train_acc=1.000]\u001b[A\n",
      "Validating:   8%|████████████▊                                                                                                                                                   | 4/50 [00:00<00:04, 10.86it/s]\u001b[A\n",
      "Epoch 2:  92%|███████████████████████████████████████████████████████████████████▎     | 507/550 [00:48<00:04, 10.54it/s, loss=1.46, v_num=20, val_loss=1.460, val_acc=1.000, train_loss=1.460, train_acc=1.000]\u001b[A\n",
      "Epoch 2:  93%|███████████████████████████████████████████████████████████████████▋     | 510/550 [00:48<00:03, 10.54it/s, loss=1.46, v_num=20, val_loss=1.460, val_acc=1.000, train_loss=1.460, train_acc=1.000]\u001b[A\n",
      "Validating:  20%|███████████████████████████████▊                                                                                                                               | 10/50 [00:00<00:03, 10.74it/s]\u001b[A\n",
      "Epoch 2:  93%|████████████████████████████████████████████████████████████████████     | 513/550 [00:48<00:03, 10.54it/s, loss=1.46, v_num=20, val_loss=1.460, val_acc=1.000, train_loss=1.460, train_acc=1.000]\u001b[A\n",
      "Epoch 2:  94%|████████████████████████████████████████████████████████████████████▍    | 516/550 [00:49<00:03, 10.55it/s, loss=1.46, v_num=20, val_loss=1.460, val_acc=1.000, train_loss=1.460, train_acc=1.000]\u001b[A\n",
      "Validating:  32%|██████████████████████████████████████████████████▉                                                                                                            | 16/50 [00:01<00:03, 10.77it/s]\u001b[A\n",
      "Epoch 2:  94%|████████████████████████████████████████████████████████████████████▉    | 519/550 [00:49<00:02, 10.55it/s, loss=1.46, v_num=20, val_loss=1.460, val_acc=1.000, train_loss=1.460, train_acc=1.000]\u001b[A\n",
      "Epoch 2:  95%|█████████████████████████████████████████████████████████████████████▎   | 522/550 [00:49<00:02, 10.55it/s, loss=1.46, v_num=20, val_loss=1.460, val_acc=1.000, train_loss=1.460, train_acc=1.000]\u001b[A\n",
      "Validating:  44%|█████████████████████████████████████████████████████████████████████▉                                                                                         | 22/50 [00:02<00:02, 10.82it/s]\u001b[A\n",
      "Epoch 2:  95%|█████████████████████████████████████████████████████████████████████▋   | 525/550 [00:49<00:02, 10.55it/s, loss=1.46, v_num=20, val_loss=1.460, val_acc=1.000, train_loss=1.460, train_acc=1.000]\u001b[A\n",
      "Epoch 2:  96%|██████████████████████████████████████████████████████████████████████   | 528/550 [00:50<00:02, 10.55it/s, loss=1.46, v_num=20, val_loss=1.460, val_acc=1.000, train_loss=1.460, train_acc=1.000]\u001b[A\n",
      "Validating:  56%|█████████████████████████████████████████████████████████████████████████████████████████                                                                      | 28/50 [00:02<00:02, 10.79it/s]\u001b[A\n",
      "Epoch 2:  97%|██████████████████████████████████████████████████████████████████████▍  | 531/550 [00:50<00:01, 10.55it/s, loss=1.46, v_num=20, val_loss=1.460, val_acc=1.000, train_loss=1.460, train_acc=1.000]\u001b[A\n",
      "Epoch 2:  97%|██████████████████████████████████████████████████████████████████████▉  | 534/550 [00:50<00:01, 10.56it/s, loss=1.46, v_num=20, val_loss=1.460, val_acc=1.000, train_loss=1.460, train_acc=1.000]\u001b[A\n",
      "Validating:  68%|████████████████████████████████████████████████████████████████████████████████████████████████████████████                                                   | 34/50 [00:03<00:01, 10.81it/s]\u001b[A\n",
      "Epoch 2:  98%|███████████████████████████████████████████████████████████████████████▎ | 537/550 [00:50<00:01, 10.56it/s, loss=1.46, v_num=20, val_loss=1.460, val_acc=1.000, train_loss=1.460, train_acc=1.000]\u001b[A\n",
      "Epoch 2:  98%|███████████████████████████████████████████████████████████████████████▋ | 540/550 [00:51<00:00, 10.56it/s, loss=1.46, v_num=20, val_loss=1.460, val_acc=1.000, train_loss=1.460, train_acc=1.000]\u001b[A\n",
      "Validating:  80%|███████████████████████████████████████████████████████████████████████████████████████████████████████████████████████████████▏                               | 40/50 [00:03<00:00, 10.82it/s]\u001b[A\n"
     ]
    },
    {
     "name": "stdout",
     "output_type": "stream",
     "text": [
      "Epoch 2:  99%|████████████████████████████████████████████████████████████████████████ | 543/550 [00:51<00:00, 10.56it/s, loss=1.46, v_num=20, val_loss=1.460, val_acc=1.000, train_loss=1.460, train_acc=1.000]\u001b[A\n",
      "Epoch 2:  99%|████████████████████████████████████████████████████████████████████████▍| 546/550 [00:51<00:00, 10.56it/s, loss=1.46, v_num=20, val_loss=1.460, val_acc=1.000, train_loss=1.460, train_acc=1.000]\u001b[A\n",
      "Validating:  92%|██████████████████████████████████████████████████████████████████████████████████████████████████████████████████████████████████████████████████▎            | 46/50 [00:04<00:00, 10.78it/s]\u001b[A\n",
      "Epoch 2: 100%|████████████████████████████████████████████████████████████████████████▊| 549/550 [00:52<00:00, 10.56it/s, loss=1.46, v_num=20, val_loss=1.460, val_acc=1.000, train_loss=1.460, train_acc=1.000]\u001b[A\n",
      "Epoch 2: 100%|█████████████████████████████████████████████████████████████████████████| 550/550 [00:52<00:00, 10.54it/s, loss=1.46, v_num=20, val_loss=1.460, val_acc=1.000, train_loss=1.460, train_acc=1.000]\u001b[A\n",
      "Epoch 3:  91%|██████████████████████████████████████████████████████████████████▍      | 501/550 [00:47<00:04, 10.53it/s, loss=1.46, v_num=20, val_loss=1.460, val_acc=1.000, train_loss=1.460, train_acc=1.000]\u001b[A\n",
      "Validating: 0it [00:00, ?it/s]\u001b[A\n",
      "Validating:   0%|                                                                                                                                                                        | 0/50 [00:00<?, ?it/s]\u001b[A\n",
      "Epoch 3:  92%|██████████████████████████████████████████████████████████████████▉      | 504/550 [00:47<00:04, 10.53it/s, loss=1.46, v_num=20, val_loss=1.460, val_acc=1.000, train_loss=1.460, train_acc=1.000]\u001b[A\n",
      "Validating:   8%|████████████▊                                                                                                                                                   | 4/50 [00:00<00:04, 10.77it/s]\u001b[A\n",
      "Epoch 3:  92%|███████████████████████████████████████████████████████████████████▎     | 507/550 [00:48<00:04, 10.54it/s, loss=1.46, v_num=20, val_loss=1.460, val_acc=1.000, train_loss=1.460, train_acc=1.000]\u001b[A\n",
      "Epoch 3:  93%|███████████████████████████████████████████████████████████████████▋     | 510/550 [00:48<00:03, 10.54it/s, loss=1.46, v_num=20, val_loss=1.460, val_acc=1.000, train_loss=1.460, train_acc=1.000]\u001b[A\n",
      "Validating:  20%|███████████████████████████████▊                                                                                                                               | 10/50 [00:00<00:03, 10.88it/s]\u001b[A\n",
      "Epoch 3:  93%|████████████████████████████████████████████████████████████████████     | 513/550 [00:48<00:03, 10.54it/s, loss=1.46, v_num=20, val_loss=1.460, val_acc=1.000, train_loss=1.460, train_acc=1.000]\u001b[A\n",
      "Epoch 3:  94%|████████████████████████████████████████████████████████████████████▍    | 516/550 [00:49<00:03, 10.54it/s, loss=1.46, v_num=20, val_loss=1.460, val_acc=1.000, train_loss=1.460, train_acc=1.000]\u001b[A\n",
      "Validating:  32%|██████████████████████████████████████████████████▉                                                                                                            | 16/50 [00:01<00:03, 10.85it/s]\u001b[A\n",
      "Epoch 3:  94%|████████████████████████████████████████████████████████████████████▉    | 519/550 [00:49<00:02, 10.54it/s, loss=1.46, v_num=20, val_loss=1.460, val_acc=1.000, train_loss=1.460, train_acc=1.000]\u001b[A\n",
      "Epoch 3:  95%|█████████████████████████████████████████████████████████████████████▎   | 522/550 [00:49<00:02, 10.55it/s, loss=1.46, v_num=20, val_loss=1.460, val_acc=1.000, train_loss=1.460, train_acc=1.000]\u001b[A\n",
      "Validating:  44%|█████████████████████████████████████████████████████████████████████▉                                                                                         | 22/50 [00:02<00:02, 10.86it/s]\u001b[A\n",
      "Epoch 3:  95%|█████████████████████████████████████████████████████████████████████▋   | 525/550 [00:49<00:02, 10.55it/s, loss=1.46, v_num=20, val_loss=1.460, val_acc=1.000, train_loss=1.460, train_acc=1.000]\u001b[A\n",
      "Epoch 3:  96%|██████████████████████████████████████████████████████████████████████   | 528/550 [00:50<00:02, 10.55it/s, loss=1.46, v_num=20, val_loss=1.460, val_acc=1.000, train_loss=1.460, train_acc=1.000]\u001b[A\n",
      "Validating:  56%|█████████████████████████████████████████████████████████████████████████████████████████                                                                      | 28/50 [00:02<00:02, 10.85it/s]\u001b[A\n",
      "Epoch 3:  97%|██████████████████████████████████████████████████████████████████████▍  | 531/550 [00:50<00:01, 10.55it/s, loss=1.46, v_num=20, val_loss=1.460, val_acc=1.000, train_loss=1.460, train_acc=1.000]\u001b[A\n",
      "Epoch 3:  97%|██████████████████████████████████████████████████████████████████████▉  | 534/550 [00:50<00:01, 10.55it/s, loss=1.46, v_num=20, val_loss=1.460, val_acc=1.000, train_loss=1.460, train_acc=1.000]\u001b[A\n",
      "Validating:  68%|████████████████████████████████████████████████████████████████████████████████████████████████████████████                                                   | 34/50 [00:03<00:01, 10.83it/s]\u001b[A\n",
      "Epoch 3:  98%|███████████████████████████████████████████████████████████████████████▎ | 537/550 [00:50<00:01, 10.55it/s, loss=1.46, v_num=20, val_loss=1.460, val_acc=1.000, train_loss=1.460, train_acc=1.000]\u001b[A\n",
      "Epoch 3:  98%|███████████████████████████████████████████████████████████████████████▋ | 540/550 [00:51<00:00, 10.55it/s, loss=1.46, v_num=20, val_loss=1.460, val_acc=1.000, train_loss=1.460, train_acc=1.000]\u001b[A\n",
      "Validating:  80%|███████████████████████████████████████████████████████████████████████████████████████████████████████████████████████████████▏                               | 40/50 [00:03<00:00, 10.76it/s]\u001b[A\n",
      "Epoch 3:  99%|████████████████████████████████████████████████████████████████████████ | 543/550 [00:51<00:00, 10.56it/s, loss=1.46, v_num=20, val_loss=1.460, val_acc=1.000, train_loss=1.460, train_acc=1.000]\u001b[A\n",
      "Epoch 3:  99%|████████████████████████████████████████████████████████████████████████▍| 546/550 [00:51<00:00, 10.56it/s, loss=1.46, v_num=20, val_loss=1.460, val_acc=1.000, train_loss=1.460, train_acc=1.000]\u001b[A\n",
      "Validating:  92%|██████████████████████████████████████████████████████████████████████████████████████████████████████████████████████████████████████████████████▎            | 46/50 [00:04<00:00, 10.83it/s]\u001b[A\n",
      "Epoch 3: 100%|████████████████████████████████████████████████████████████████████████▊| 549/550 [00:52<00:00, 10.56it/s, loss=1.46, v_num=20, val_loss=1.460, val_acc=1.000, train_loss=1.460, train_acc=1.000]\u001b[A\n",
      "Epoch 3: 100%|█████████████████████████████████████████████████████████████████████████| 550/550 [00:52<00:00, 10.54it/s, loss=1.46, v_num=20, val_loss=1.460, val_acc=1.000, train_loss=1.460, train_acc=1.000]\u001b[A\n",
      "Epoch 4:  91%|██████████████████████████████████████████████████████████████████▍      | 501/550 [00:47<00:04, 10.47it/s, loss=1.46, v_num=20, val_loss=1.460, val_acc=1.000, train_loss=1.460, train_acc=1.000]\u001b[A\n",
      "Validating: 0it [00:00, ?it/s]\u001b[A\n",
      "Validating:   0%|                                                                                                                                                                        | 0/50 [00:00<?, ?it/s]\u001b[A\n",
      "Epoch 4:  92%|██████████████████████████████████████████████████████████████████▉      | 504/550 [00:48<00:04, 10.47it/s, loss=1.46, v_num=20, val_loss=1.460, val_acc=1.000, train_loss=1.460, train_acc=1.000]\u001b[A\n",
      "Validating:   8%|████████████▊                                                                                                                                                   | 4/50 [00:00<00:04, 10.92it/s]\u001b[A\n",
      "Epoch 4:  92%|███████████████████████████████████████████████████████████████████▎     | 507/550 [00:48<00:04, 10.47it/s, loss=1.46, v_num=20, val_loss=1.460, val_acc=1.000, train_loss=1.460, train_acc=1.000]\u001b[A\n",
      "Epoch 4:  93%|███████████████████████████████████████████████████████████████████▋     | 510/550 [00:48<00:03, 10.48it/s, loss=1.46, v_num=20, val_loss=1.460, val_acc=1.000, train_loss=1.460, train_acc=1.000]\u001b[A\n"
     ]
    },
    {
     "name": "stdout",
     "output_type": "stream",
     "text": [
      "Validating:  20%|███████████████████████████████▊                                                                                                                               | 10/50 [00:00<00:03, 10.87it/s]\u001b[A\n",
      "Epoch 4:  93%|████████████████████████████████████████████████████████████████████     | 513/550 [00:49<00:03, 10.48it/s, loss=1.46, v_num=20, val_loss=1.460, val_acc=1.000, train_loss=1.460, train_acc=1.000]\u001b[A\n",
      "Epoch 4:  94%|████████████████████████████████████████████████████████████████████▍    | 516/550 [00:49<00:03, 10.48it/s, loss=1.46, v_num=20, val_loss=1.460, val_acc=1.000, train_loss=1.460, train_acc=1.000]\u001b[A\n",
      "Validating:  32%|██████████████████████████████████████████████████▉                                                                                                            | 16/50 [00:01<00:03, 10.85it/s]\u001b[A\n",
      "Epoch 4:  94%|████████████████████████████████████████████████████████████████████▉    | 519/550 [00:49<00:02, 10.48it/s, loss=1.46, v_num=20, val_loss=1.460, val_acc=1.000, train_loss=1.460, train_acc=1.000]\u001b[A\n",
      "Epoch 4:  95%|█████████████████████████████████████████████████████████████████████▎   | 522/550 [00:49<00:02, 10.48it/s, loss=1.46, v_num=20, val_loss=1.460, val_acc=1.000, train_loss=1.460, train_acc=1.000]\u001b[A\n",
      "Validating:  44%|█████████████████████████████████████████████████████████████████████▉                                                                                         | 22/50 [00:02<00:02, 10.84it/s]\u001b[A\n",
      "Epoch 4:  95%|█████████████████████████████████████████████████████████████████████▋   | 525/550 [00:50<00:02, 10.49it/s, loss=1.46, v_num=20, val_loss=1.460, val_acc=1.000, train_loss=1.460, train_acc=1.000]\u001b[A\n",
      "Epoch 4:  96%|██████████████████████████████████████████████████████████████████████   | 528/550 [00:50<00:02, 10.49it/s, loss=1.46, v_num=20, val_loss=1.460, val_acc=1.000, train_loss=1.460, train_acc=1.000]\u001b[A\n",
      "Validating:  56%|█████████████████████████████████████████████████████████████████████████████████████████                                                                      | 28/50 [00:02<00:02, 10.75it/s]\u001b[A\n",
      "Epoch 4:  97%|██████████████████████████████████████████████████████████████████████▍  | 531/550 [00:50<00:01, 10.49it/s, loss=1.46, v_num=20, val_loss=1.460, val_acc=1.000, train_loss=1.460, train_acc=1.000]\u001b[A\n",
      "Epoch 4:  97%|██████████████████████████████████████████████████████████████████████▉  | 534/550 [00:51<00:01, 10.49it/s, loss=1.46, v_num=20, val_loss=1.460, val_acc=1.000, train_loss=1.460, train_acc=1.000]\u001b[A\n",
      "Validating:  68%|████████████████████████████████████████████████████████████████████████████████████████████████████████████                                                   | 34/50 [00:03<00:01, 10.65it/s]\u001b[A\n",
      "Epoch 4:  98%|███████████████████████████████████████████████████████████████████████▎ | 537/550 [00:51<00:01, 10.49it/s, loss=1.46, v_num=20, val_loss=1.460, val_acc=1.000, train_loss=1.460, train_acc=1.000]\u001b[A\n",
      "Epoch 4:  98%|███████████████████████████████████████████████████████████████████████▋ | 540/550 [00:51<00:00, 10.49it/s, loss=1.46, v_num=20, val_loss=1.460, val_acc=1.000, train_loss=1.460, train_acc=1.000]\u001b[A\n",
      "Validating:  80%|███████████████████████████████████████████████████████████████████████████████████████████████████████████████████████████████▏                               | 40/50 [00:03<00:00, 10.69it/s]\u001b[A\n",
      "Epoch 4:  99%|████████████████████████████████████████████████████████████████████████ | 543/550 [00:51<00:00, 10.49it/s, loss=1.46, v_num=20, val_loss=1.460, val_acc=1.000, train_loss=1.460, train_acc=1.000]\u001b[A\n",
      "Epoch 4:  99%|████████████████████████████████████████████████████████████████████████▍| 546/550 [00:52<00:00, 10.50it/s, loss=1.46, v_num=20, val_loss=1.460, val_acc=1.000, train_loss=1.460, train_acc=1.000]\u001b[A\n",
      "Validating:  92%|██████████████████████████████████████████████████████████████████████████████████████████████████████████████████████████████████████████████████▎            | 46/50 [00:04<00:00, 10.77it/s]\u001b[A\n",
      "Epoch 4: 100%|████████████████████████████████████████████████████████████████████████▊| 549/550 [00:52<00:00, 10.50it/s, loss=1.46, v_num=20, val_loss=1.460, val_acc=1.000, train_loss=1.460, train_acc=1.000]\u001b[A\n",
      "Epoch 4: 100%|█████████████████████████████████████████████████████████████████████████| 550/550 [00:52<00:00, 10.48it/s, loss=1.46, v_num=20, val_loss=1.460, val_acc=1.000, train_loss=1.460, train_acc=1.000]\u001b[A\n",
      "Epoch 4: 100%|█████████████████████████████████████████████████████████████████████████| 550/550 [00:52<00:00, 10.48it/s, loss=1.46, v_num=20, val_loss=1.460, val_acc=1.000, train_loss=1.460, train_acc=1.000]\u001b[A\n"
     ]
    }
   ],
   "source": [
    "trainer.fit(model)"
   ]
  },
  {
   "cell_type": "code",
   "execution_count": 7,
   "id": "7ace6b46",
   "metadata": {},
   "outputs": [
    {
     "name": "stdout",
     "output_type": "stream",
     "text": [
      "3\n"
     ]
    }
   ],
   "source": [
    "import cv2\n",
    "import numpy as np\n",
    "img = cv2.imread('cell.png')\n",
    "img = cv2.cvtColor(img, cv2.COLOR_BGR2GRAY)\n",
    "img = cv2.resize(img, (28, 28))\n",
    "img = Image.fromarray(img)\n",
    "img = transform(img)\n",
    "img = img.reshape(1, 1, 28, 28)\n",
    "predictions = model(img.float())\n",
    "predictions = predictions.detach().numpy()\n",
    "print(np.argmax(predictions))"
   ]
  },
  {
   "cell_type": "code",
   "execution_count": null,
   "id": "9fb63171",
   "metadata": {},
   "outputs": [],
   "source": []
  },
  {
   "cell_type": "code",
   "execution_count": null,
   "id": "7840990b",
   "metadata": {},
   "outputs": [],
   "source": []
  }
 ],
 "metadata": {
  "kernelspec": {
   "display_name": "Python 3",
   "language": "python",
   "name": "python3"
  },
  "language_info": {
   "codemirror_mode": {
    "name": "ipython",
    "version": 3
   },
   "file_extension": ".py",
   "mimetype": "text/x-python",
   "name": "python",
   "nbconvert_exporter": "python",
   "pygments_lexer": "ipython3",
   "version": "3.6.13"
  }
 },
 "nbformat": 4,
 "nbformat_minor": 5
}
