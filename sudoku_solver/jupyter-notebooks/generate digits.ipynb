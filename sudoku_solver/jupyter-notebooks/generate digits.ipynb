{
 "cells": [
  {
   "cell_type": "code",
   "execution_count": 1,
   "id": "8c31211a",
   "metadata": {},
   "outputs": [],
   "source": [
    "import os\n",
    "import glob\n",
    "import random\n",
    "\n",
    "from PIL import Image\n",
    "from PIL import ImageFont\n",
    "from PIL import ImageDraw"
   ]
  },
  {
   "cell_type": "code",
   "execution_count": 2,
   "id": "b4ff14cc",
   "metadata": {},
   "outputs": [],
   "source": [
    "PATH = \"D:/projects/computer_vision/sudoku_solver/fonts/\"\n",
    "IMG_PATH = \"D:/projects/computer_vision/sudoku_solver/digits/\"\n",
    "fonts = glob.glob(PATH + \"/*.ttf\")"
   ]
  },
  {
   "cell_type": "code",
   "execution_count": 22,
   "id": "0a981534",
   "metadata": {},
   "outputs": [],
   "source": [
    "color = 0\n",
    "for fnt in fonts:\n",
    "    for target in range(0, 10):\n",
    "        img = Image.new(\"L\", (256, 256))\n",
    "        img = np.array(img)\n",
    "        img[img == 0] = 225\n",
    "        img = Image.fromarray(img)\n",
    "        #size = random.randint(150, 250)\n",
    "        size = 200\n",
    "        #x = random.randint(30, 90)\n",
    "        #y = random.randint(30, 90)\n",
    "        draw = ImageDraw.Draw(img)\n",
    "        font = ImageFont.truetype(fnt, size)\n",
    "        draw.text((20, 20), str(target), color, font=font)\n",
    "        draw.rectangle([0, 256, 0, 256], width = 10, outline=\"#0000ff\")\n",
    "        img = img.resize((28, 28), Image.BILINEAR)\n",
    "        img.save(IMG_PATH + '{}_{}.png'.format(os.path.basename(fnt)[:-4], target))"
   ]
  },
  {
   "cell_type": "code",
   "execution_count": null,
   "id": "88e6b728",
   "metadata": {},
   "outputs": [],
   "source": []
  },
  {
   "cell_type": "code",
   "execution_count": null,
   "id": "4308738c",
   "metadata": {},
   "outputs": [],
   "source": []
  },
  {
   "cell_type": "code",
   "execution_count": 34,
   "id": "d054273e",
   "metadata": {},
   "outputs": [
    {
     "data": {
      "image/png": "[encoded data removed]",
      "text/plain": [
       "<PIL.Image.Image image mode=L size=28x28 at 0x1E04F891A58>"
      ]
     },
     "execution_count": 34,
     "metadata": {},
     "output_type": "execute_result"
    }
   ],
   "source": [
    "target = random.randint(0, 9)\n",
    "color = 0\n",
    "\n",
    "# Generate image\n",
    "img = Image.new(\"L\", (256, 256))\n",
    "img = np.array(img)\n",
    "img[img == 0] = 225\n",
    "img = Image.fromarray(img)\n",
    "target = random.randint(0, 9)\n",
    "size = random.randint(150, 250)\n",
    "x = random.randint(30, 90)\n",
    "y = random.randint(30, 90)\n",
    "\n",
    "draw = ImageDraw.Draw(img)\n",
    "font = ImageFont.truetype(random.choice(fonts), size)\n",
    "draw.text((x, y), str(target), color, font=font)\n",
    "shape = [(0, 0), (256 - 10, 256 - 10)]\n",
    "draw.rectangle(shape, outline =\"black\", width=4)\n",
    "img = img.resize((28, 28), Image.BILINEAR)\n",
    "img"
   ]
  },
  {
   "cell_type": "code",
   "execution_count": 30,
   "id": "63d08d0f",
   "metadata": {},
   "outputs": [],
   "source": [
    "img.show()"
   ]
  },
  {
   "cell_type": "code",
   "execution_count": 31,
   "id": "7aace85d",
   "metadata": {},
   "outputs": [],
   "source": [
    "draw.text((5, 5), str(target), color, font=font)"
   ]
  },
  {
   "cell_type": "code",
   "execution_count": 8,
   "id": "13f11dc3",
   "metadata": {},
   "outputs": [],
   "source": [
    "img = Image.new(\"L\", (256, 256))"
   ]
  },
  {
   "cell_type": "code",
   "execution_count": 14,
   "id": "aeddc076",
   "metadata": {},
   "outputs": [
    {
     "data": {
      "image/png": "[encoded data removed]",
      "text/plain": [
       "<PIL.Image.Image image mode=L size=256x256 at 0x1E04F8489B0>"
      ]
     },
     "execution_count": 14,
     "metadata": {},
     "output_type": "execute_result"
    }
   ],
   "source": [
    "test = np.array(img)\n",
    "test[test == 0] = 225\n",
    "Image.fromarray(test)"
   ]
  },
  {
   "cell_type": "code",
   "execution_count": 11,
   "id": "5e99debf",
   "metadata": {},
   "outputs": [],
   "source": [
    "import numpy as np"
   ]
  },
  {
   "cell_type": "code",
   "execution_count": null,
   "id": "3ec2af3b",
   "metadata": {},
   "outputs": [],
   "source": []
  }
 ],
 "metadata": {
  "kernelspec": {
   "display_name": "Python 3",
   "language": "python",
   "name": "python3"
  },
  "language_info": {
   "codemirror_mode": {
    "name": "ipython",
    "version": 3
   },
   "file_extension": ".py",
   "mimetype": "text/x-python",
   "name": "python",
   "nbconvert_exporter": "python",
   "pygments_lexer": "ipython3",
   "version": "3.6.13"
  }
 },
 "nbformat": 4,
 "nbformat_minor": 5
}
